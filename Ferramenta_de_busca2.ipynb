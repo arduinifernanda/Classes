{
  "nbformat": 4,
  "nbformat_minor": 0,
  "metadata": {
    "colab": {
      "name": "Ferramenta de busca2.ipynb",
      "provenance": [],
      "authorship_tag": "ABX9TyNai7qoIPcKKA5uZDTHu4y6",
      "include_colab_link": true
    },
    "kernelspec": {
      "name": "python3",
      "display_name": "Python 3"
    },
    "language_info": {
      "name": "python"
    }
  },
  "cells": [
    {
      "cell_type": "markdown",
      "metadata": {
        "id": "view-in-github",
        "colab_type": "text"
      },
      "source": [
        "<a href=\"https://colab.research.google.com/github/arduinifernanda/Classes/blob/main/Ferramenta_de_busca2.ipynb\" target=\"_parent\"><img src=\"https://colab.research.google.com/assets/colab-badge.svg\" alt=\"Open In Colab\"/></a>"
      ]
    },
    {
      "cell_type": "code",
      "metadata": {
        "id": "W759zmIedAFl"
      },
      "source": [
        "def busca_linear2(v, n, tamanho):\n",
        "  i = 0\n",
        "  resultado = []\n",
        "  while i < tamanho:\n",
        "    if v[i] == n:\n",
        "      resultado.append(i)\n",
        "    i = i + 1\n",
        "  return resultado"
      ],
      "execution_count": 4,
      "outputs": []
    },
    {
      "cell_type": "code",
      "metadata": {
        "colab": {
          "base_uri": "https://localhost:8080/"
        },
        "id": "sFtMGapZdEkX",
        "outputId": "3d55c5c0-9e85-4f6e-cfaf-173cabee96ef"
      },
      "source": [
        "v = [23, 4, 21, 3, 4]\n",
        "n = int(input('Digite o valor para pesquisar:'))\n",
        "\n",
        "pos = busca_linear2(v, n, 5)\n",
        "\n",
        "if len(pos) == 0: #se tamanho de pos é igual a zero\n",
        "  print('Não existe o número pesquisado')\n",
        "else:\n",
        "  print('Número', n, 'existe(m) na(s) posição(s)', pos)\n"
      ],
      "execution_count": 7,
      "outputs": [
        {
          "output_type": "stream",
          "name": "stdout",
          "text": [
            "Digite o valor para pesquisar:10\n",
            "Não existe o número pesquisado\n"
          ]
        }
      ]
    }
  ]
}