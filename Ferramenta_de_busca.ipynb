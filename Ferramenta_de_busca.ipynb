{
  "nbformat": 4,
  "nbformat_minor": 0,
  "metadata": {
    "colab": {
      "name": "Ferramenta de busca.ipynb",
      "provenance": [],
      "toc_visible": true,
      "authorship_tag": "ABX9TyOGvtdGEc21CZOetgEZpzo+",
      "include_colab_link": true
    },
    "kernelspec": {
      "name": "python3",
      "display_name": "Python 3"
    },
    "language_info": {
      "name": "python"
    }
  },
  "cells": [
    {
      "cell_type": "markdown",
      "metadata": {
        "id": "view-in-github",
        "colab_type": "text"
      },
      "source": [
        "<a href=\"https://colab.research.google.com/github/arduinifernanda/Classes/blob/main/Ferramenta_de_busca.ipynb\" target=\"_parent\"><img src=\"https://colab.research.google.com/assets/colab-badge.svg\" alt=\"Open In Colab\"/></a>"
      ]
    },
    {
      "cell_type": "code",
      "metadata": {
        "id": "tOhA_uTcYBNI"
      },
      "source": [
        "def busca_linear(v, n, tamanho):\n",
        "  i = 0\n",
        "  while i < tamanho:\n",
        "    if v[i] == n:\n",
        "      return i\n",
        "    i = i + 1\n",
        "  return -1"
      ],
      "execution_count": 15,
      "outputs": []
    },
    {
      "cell_type": "code",
      "metadata": {
        "colab": {
          "base_uri": "https://localhost:8080/"
        },
        "id": "K8xVgJppXbtm",
        "outputId": "f175dca3-e50f-4cc8-8864-f2e10b4b153f"
      },
      "source": [
        "v = [23, 4, 21, 3, 23]\n",
        "n = int(input('Digite o valor para pesquisar:'))\n",
        "\n",
        "pos = busca_linear(v, n, 5)\n",
        "\n",
        "if pos == -1:\n",
        "  print('Não existe o número pesquisado')\n",
        "else:\n",
        "  print('Número', n, 'existe na posição', pos)\n"
      ],
      "execution_count": 18,
      "outputs": [
        {
          "output_type": "stream",
          "name": "stdout",
          "text": [
            "Digite o valor para pesquisar:10\n",
            "Não existe o número pesquisado\n"
          ]
        }
      ]
    }
  ]
}